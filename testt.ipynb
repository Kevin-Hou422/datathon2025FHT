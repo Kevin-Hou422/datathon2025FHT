{
 "cells": [
  {
   "cell_type": "markdown",
   "id": "794fcd49",
   "metadata": {},
   "source": [
    "* 2025 09 30"
   ]
  },
  {
   "cell_type": "markdown",
   "id": "45af0522",
   "metadata": {
    "vscode": {
     "languageId": "plaintext"
    }
   },
   "source": [
    "* This is test file of local vscode with git to sync changes.  \n",
    "* Fang  "
   ]
  }
 ],
 "metadata": {
  "language_info": {
   "name": "python"
  }
 },
 "nbformat": 4,
 "nbformat_minor": 5
}

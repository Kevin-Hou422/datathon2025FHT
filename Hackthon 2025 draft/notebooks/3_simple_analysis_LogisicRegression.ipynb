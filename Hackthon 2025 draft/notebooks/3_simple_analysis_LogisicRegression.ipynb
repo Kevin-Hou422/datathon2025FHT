{
 "cells": [
  {
   "cell_type": "markdown",
   "id": "3717e828",
   "metadata": {},
   "source": [
    "### 3. Simple/Basic approach  (Logistic Regression)"
   ]
  },
  {
   "cell_type": "markdown",
   "id": "c033e040",
   "metadata": {},
   "source": [
    "3.1 Read and load the data.  "
   ]
  },
  {
   "cell_type": "code",
   "execution_count": 8,
   "id": "54102664",
   "metadata": {},
   "outputs": [],
   "source": [
    "import pandas as pd\n",
    "from sklearn.model_selection import train_test_split\n",
    "from sklearn.preprocessing import StandardScaler\n",
    "from sklearn.linear_model import LogisticRegression\n",
    "from sklearn.metrics import accuracy_score, classification_report\n",
    "\n",
    "data = pd.read_csv('../data/manipulated_data_set/full_data.csv')"
   ]
  },
  {
   "cell_type": "markdown",
   "id": "f186823a",
   "metadata": {},
   "source": [
    "3.2 Prepare data, split train and test set.  "
   ]
  },
  {
   "cell_type": "code",
   "execution_count": 9,
   "id": "72ec68bd",
   "metadata": {},
   "outputs": [],
   "source": [
    "X = data.drop(columns=[\"NSP\", \"CLASS\"])   # X features, (indicators)\n",
    "y_nsp = data[\"NSP\"] - 1                   # let NSP start from 0\n",
    "\n",
    "X_train, X_test, y_train, y_test = train_test_split(\n",
    "    X, y_nsp, test_size=0.3, random_state=42, stratify=y_nsp\n",
    ")\n"
   ]
  },
  {
   "cell_type": "markdown",
   "id": "b26e05ff",
   "metadata": {},
   "source": [
    "3.3 Regularization of data.  \n",
    "* For Logistic Regression, data scale may not affect a lot.  \n",
    "* Regularization can make more accurate precision.  "
   ]
  },
  {
   "cell_type": "code",
   "execution_count": 10,
   "id": "66ad0d49",
   "metadata": {},
   "outputs": [],
   "source": [
    "scaler = StandardScaler()\n",
    "X_train_scaled = scaler.fit_transform(X_train)\n",
    "X_test_scaled = scaler.transform(X_test)\n"
   ]
  },
  {
   "cell_type": "markdown",
   "id": "cef58faf",
   "metadata": {},
   "source": [
    "3.4 __Train and test the Model__  "
   ]
  },
  {
   "cell_type": "code",
   "execution_count": 11,
   "id": "3a6e5c0e",
   "metadata": {},
   "outputs": [
    {
     "name": "stdout",
     "output_type": "stream",
     "text": [
      "=== NSP classification Result. ===\n",
      "Accuracy: 0.8934169278996865\n",
      "              precision    recall  f1-score   support\n",
      "\n",
      "         0.0       0.94      0.95      0.94       497\n",
      "         1.0       0.64      0.72      0.67        88\n",
      "         2.0       0.92      0.68      0.78        53\n",
      "\n",
      "    accuracy                           0.89       638\n",
      "   macro avg       0.83      0.78      0.80       638\n",
      "weighted avg       0.90      0.89      0.89       638\n",
      "\n",
      "F1-score (macro): 0.8004133302021853\n",
      "F1-score (weighted): 0.8939735529174895\n"
     ]
    },
    {
     "name": "stderr",
     "output_type": "stream",
     "text": [
      "d:\\All_App_Install\\Anaconda3_Install\\Lib\\site-packages\\sklearn\\linear_model\\_logistic.py:1247: FutureWarning: 'multi_class' was deprecated in version 1.5 and will be removed in 1.7. From then on, it will always use 'multinomial'. Leave it to its default value to avoid this warning.\n",
      "  warnings.warn(\n"
     ]
    }
   ],
   "source": [
    "log_reg_nsp = LogisticRegression(max_iter=1000, multi_class=\"multinomial\")\n",
    "log_reg_nsp.fit(X_train_scaled, y_train)\n",
    "\n",
    "y_pred = log_reg_nsp.predict(X_test_scaled)\n",
    "\n",
    "print(\"=== NSP classification Result. ===\")\n",
    "print(\"Accuracy:\", accuracy_score(y_test, y_pred))\n",
    "print(classification_report(y_test, y_pred))\n",
    "\n",
    "from sklearn.metrics import f1_score\n",
    "\n",
    "f1_macro = f1_score(y_test, y_pred, average='macro')   \n",
    "f1_weighted = f1_score(y_test, y_pred, average='weighted')\n",
    "\n",
    "print(\"F1-score (macro):\", f1_macro)\n",
    "print(\"F1-score (weighted):\", f1_weighted)"
   ]
  }
 ],
 "metadata": {
  "kernelspec": {
   "display_name": "base",
   "language": "python",
   "name": "python3"
  },
  "language_info": {
   "codemirror_mode": {
    "name": "ipython",
    "version": 3
   },
   "file_extension": ".py",
   "mimetype": "text/x-python",
   "name": "python",
   "nbconvert_exporter": "python",
   "pygments_lexer": "ipython3",
   "version": "3.12.7"
  }
 },
 "nbformat": 4,
 "nbformat_minor": 5
}

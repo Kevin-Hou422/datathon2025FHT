{
 "cells": [
  {
   "cell_type": "markdown",
   "metadata": {},
   "source": [
    "### Import, Clean and Prepare the data  \n",
    "* After excuting, can get train/test data_set (7:3), both scaled and unscaled   \n",
    "``` path = ../data/manipulated_data_set/ ```  \n",
    "* _Fang_ written on 2025 10 02  \n"
   ]
  },
  {
   "cell_type": "code",
   "execution_count": 59,
   "metadata": {},
   "outputs": [],
   "source": [
    "# import the necessary packages\n",
    "# To run this script, you need to have the following packages installed:\n",
    "# pandas, numpy, seaborn, xlrd (if not, pip install xlrd.)\n",
    "import pandas as pd\n",
    "import numpy as np\n",
    "import seaborn as sb"
   ]
  },
  {
   "cell_type": "code",
   "execution_count": 60,
   "metadata": {},
   "outputs": [],
   "source": [
    "# import data. \n",
    "# note that must clone to local first, \n",
    "# may cause error if direct use cloud folder. \n",
    "try:\n",
    "    ori_data = pd.read_excel('../data/CTG.xls', sheet_name='Data', skiprows=1)\n",
    "    ori_data.head()\n",
    "except FileNotFoundError:\n",
    "    print(\" 'CTG.xls' not found, check local path.\")"
   ]
  },
  {
   "cell_type": "code",
   "execution_count": 61,
   "metadata": {},
   "outputs": [
    {
     "data": {
      "application/vnd.microsoft.datawrangler.viewer.v0+json": {
       "columns": [
        {
         "name": "index",
         "rawType": "int64",
         "type": "integer"
        },
        {
         "name": "b",
         "rawType": "float64",
         "type": "float"
        },
        {
         "name": "e",
         "rawType": "float64",
         "type": "float"
        },
        {
         "name": "AC",
         "rawType": "float64",
         "type": "float"
        },
        {
         "name": "FM",
         "rawType": "float64",
         "type": "float"
        },
        {
         "name": "UC",
         "rawType": "float64",
         "type": "float"
        },
        {
         "name": "DL",
         "rawType": "float64",
         "type": "float"
        },
        {
         "name": "DS",
         "rawType": "float64",
         "type": "float"
        },
        {
         "name": "DP",
         "rawType": "float64",
         "type": "float"
        },
        {
         "name": "DR",
         "rawType": "float64",
         "type": "float"
        },
        {
         "name": "Unnamed: 9",
         "rawType": "float64",
         "type": "float"
        },
        {
         "name": "LB",
         "rawType": "float64",
         "type": "float"
        },
        {
         "name": "AC.1",
         "rawType": "float64",
         "type": "float"
        },
        {
         "name": "FM.1",
         "rawType": "float64",
         "type": "float"
        },
        {
         "name": "UC.1",
         "rawType": "float64",
         "type": "float"
        },
        {
         "name": "DL.1",
         "rawType": "float64",
         "type": "float"
        },
        {
         "name": "DS.1",
         "rawType": "float64",
         "type": "float"
        },
        {
         "name": "DP.1",
         "rawType": "float64",
         "type": "float"
        },
        {
         "name": "ASTV",
         "rawType": "float64",
         "type": "float"
        },
        {
         "name": "MSTV",
         "rawType": "float64",
         "type": "float"
        },
        {
         "name": "ALTV",
         "rawType": "float64",
         "type": "float"
        },
        {
         "name": "MLTV",
         "rawType": "float64",
         "type": "float"
        },
        {
         "name": "Width",
         "rawType": "float64",
         "type": "float"
        },
        {
         "name": "Min",
         "rawType": "float64",
         "type": "float"
        },
        {
         "name": "Max",
         "rawType": "float64",
         "type": "float"
        },
        {
         "name": "Nmax",
         "rawType": "float64",
         "type": "float"
        },
        {
         "name": "Nzeros",
         "rawType": "float64",
         "type": "float"
        },
        {
         "name": "Mode",
         "rawType": "float64",
         "type": "float"
        },
        {
         "name": "Mean",
         "rawType": "float64",
         "type": "float"
        },
        {
         "name": "Median",
         "rawType": "float64",
         "type": "float"
        },
        {
         "name": "Variance",
         "rawType": "float64",
         "type": "float"
        },
        {
         "name": "Tendency",
         "rawType": "float64",
         "type": "float"
        },
        {
         "name": "Unnamed: 31",
         "rawType": "float64",
         "type": "float"
        },
        {
         "name": "A",
         "rawType": "float64",
         "type": "float"
        },
        {
         "name": "B",
         "rawType": "float64",
         "type": "float"
        },
        {
         "name": "C",
         "rawType": "float64",
         "type": "float"
        },
        {
         "name": "D",
         "rawType": "float64",
         "type": "float"
        },
        {
         "name": "E",
         "rawType": "float64",
         "type": "float"
        },
        {
         "name": "AD",
         "rawType": "float64",
         "type": "float"
        },
        {
         "name": "DE",
         "rawType": "float64",
         "type": "float"
        },
        {
         "name": "LD",
         "rawType": "float64",
         "type": "float"
        },
        {
         "name": "FS",
         "rawType": "float64",
         "type": "float"
        },
        {
         "name": "SUSP",
         "rawType": "float64",
         "type": "float"
        },
        {
         "name": "Unnamed: 42",
         "rawType": "float64",
         "type": "float"
        },
        {
         "name": "CLASS",
         "rawType": "float64",
         "type": "float"
        },
        {
         "name": "Unnamed: 44",
         "rawType": "float64",
         "type": "float"
        },
        {
         "name": "NSP",
         "rawType": "float64",
         "type": "float"
        }
       ],
       "ref": "b713368a-7ec8-44a9-8efb-30e5b754e042",
       "rows": [
        [
         "0",
         "240.0",
         "357.0",
         "0.0",
         "0.0",
         "0.0",
         "0.0",
         "0.0",
         "0.0",
         "0.0",
         null,
         "120.0",
         "0.0",
         "0.0",
         "0.0",
         "0.0",
         "0.0",
         "0.0",
         "73.0",
         "0.5",
         "43.0",
         "2.4",
         "64.0",
         "62.0",
         "126.0",
         "2.0",
         "0.0",
         "120.0",
         "137.0",
         "121.0",
         "73.0",
         "1.0",
         null,
         "-1.0",
         "-1.0",
         "-1.0",
         "-1.0",
         "-1.0",
         "-1.0",
         "-1.0",
         "-1.0",
         "1.0",
         "-1.0",
         null,
         "9.0",
         null,
         "2.0"
        ],
        [
         "1",
         "5.0",
         "632.0",
         "4.0",
         "0.0",
         "4.0",
         "2.0",
         "0.0",
         "0.0",
         "0.0",
         null,
         "132.0",
         "0.006379585326953748",
         "0.0",
         "0.006379585326953748",
         "0.003189792663476874",
         "0.0",
         "0.0",
         "17.0",
         "2.1",
         "0.0",
         "10.4",
         "130.0",
         "68.0",
         "198.0",
         "6.0",
         "1.0",
         "141.0",
         "136.0",
         "140.0",
         "12.0",
         "0.0",
         null,
         "-1.0",
         "-1.0",
         "-1.0",
         "-1.0",
         "-1.0",
         "1.0",
         "-1.0",
         "-1.0",
         "-1.0",
         "-1.0",
         null,
         "6.0",
         null,
         "1.0"
        ],
        [
         "2",
         "177.0",
         "779.0",
         "2.0",
         "0.0",
         "5.0",
         "2.0",
         "0.0",
         "0.0",
         "0.0",
         null,
         "133.0",
         "0.0033222591362126247",
         "0.0",
         "0.008305647840531562",
         "0.0033222591362126247",
         "0.0",
         "0.0",
         "16.0",
         "2.1",
         "0.0",
         "13.4",
         "130.0",
         "68.0",
         "198.0",
         "5.0",
         "1.0",
         "141.0",
         "135.0",
         "138.0",
         "13.0",
         "0.0",
         null,
         "-1.0",
         "-1.0",
         "-1.0",
         "-1.0",
         "-1.0",
         "1.0",
         "-1.0",
         "-1.0",
         "-1.0",
         "-1.0",
         null,
         "6.0",
         null,
         "1.0"
        ],
        [
         "3",
         "411.0",
         "1192.0",
         "2.0",
         "0.0",
         "6.0",
         "2.0",
         "0.0",
         "0.0",
         "0.0",
         null,
         "134.0",
         "0.002560819462227913",
         "0.0",
         "0.0076824583866837385",
         "0.002560819462227913",
         "0.0",
         "0.0",
         "16.0",
         "2.4",
         "0.0",
         "23.0",
         "117.0",
         "53.0",
         "170.0",
         "11.0",
         "0.0",
         "137.0",
         "134.0",
         "137.0",
         "13.0",
         "1.0",
         null,
         "-1.0",
         "-1.0",
         "-1.0",
         "-1.0",
         "-1.0",
         "1.0",
         "-1.0",
         "-1.0",
         "-1.0",
         "-1.0",
         null,
         "6.0",
         null,
         "1.0"
        ],
        [
         "4",
         "533.0",
         "1147.0",
         "4.0",
         "0.0",
         "5.0",
         "0.0",
         "0.0",
         "0.0",
         "0.0",
         null,
         "132.0",
         "0.006514657980456026",
         "0.0",
         "0.008143322475570033",
         "0.0",
         "0.0",
         "0.0",
         "16.0",
         "2.4",
         "0.0",
         "19.9",
         "117.0",
         "53.0",
         "170.0",
         "9.0",
         "0.0",
         "137.0",
         "136.0",
         "138.0",
         "11.0",
         "1.0",
         null,
         "-1.0",
         "1.0",
         "-1.0",
         "-1.0",
         "-1.0",
         "-1.0",
         "-1.0",
         "-1.0",
         "-1.0",
         "-1.0",
         null,
         "2.0",
         null,
         "1.0"
        ]
       ],
       "shape": {
        "columns": 46,
        "rows": 5
       }
      },
      "text/html": [
       "<div>\n",
       "<style scoped>\n",
       "    .dataframe tbody tr th:only-of-type {\n",
       "        vertical-align: middle;\n",
       "    }\n",
       "\n",
       "    .dataframe tbody tr th {\n",
       "        vertical-align: top;\n",
       "    }\n",
       "\n",
       "    .dataframe thead th {\n",
       "        text-align: right;\n",
       "    }\n",
       "</style>\n",
       "<table border=\"1\" class=\"dataframe\">\n",
       "  <thead>\n",
       "    <tr style=\"text-align: right;\">\n",
       "      <th></th>\n",
       "      <th>b</th>\n",
       "      <th>e</th>\n",
       "      <th>AC</th>\n",
       "      <th>FM</th>\n",
       "      <th>UC</th>\n",
       "      <th>DL</th>\n",
       "      <th>DS</th>\n",
       "      <th>DP</th>\n",
       "      <th>DR</th>\n",
       "      <th>Unnamed: 9</th>\n",
       "      <th>...</th>\n",
       "      <th>E</th>\n",
       "      <th>AD</th>\n",
       "      <th>DE</th>\n",
       "      <th>LD</th>\n",
       "      <th>FS</th>\n",
       "      <th>SUSP</th>\n",
       "      <th>Unnamed: 42</th>\n",
       "      <th>CLASS</th>\n",
       "      <th>Unnamed: 44</th>\n",
       "      <th>NSP</th>\n",
       "    </tr>\n",
       "  </thead>\n",
       "  <tbody>\n",
       "    <tr>\n",
       "      <th>0</th>\n",
       "      <td>240.0</td>\n",
       "      <td>357.0</td>\n",
       "      <td>0.0</td>\n",
       "      <td>0.0</td>\n",
       "      <td>0.0</td>\n",
       "      <td>0.0</td>\n",
       "      <td>0.0</td>\n",
       "      <td>0.0</td>\n",
       "      <td>0.0</td>\n",
       "      <td>NaN</td>\n",
       "      <td>...</td>\n",
       "      <td>-1.0</td>\n",
       "      <td>-1.0</td>\n",
       "      <td>-1.0</td>\n",
       "      <td>-1.0</td>\n",
       "      <td>1.0</td>\n",
       "      <td>-1.0</td>\n",
       "      <td>NaN</td>\n",
       "      <td>9.0</td>\n",
       "      <td>NaN</td>\n",
       "      <td>2.0</td>\n",
       "    </tr>\n",
       "    <tr>\n",
       "      <th>1</th>\n",
       "      <td>5.0</td>\n",
       "      <td>632.0</td>\n",
       "      <td>4.0</td>\n",
       "      <td>0.0</td>\n",
       "      <td>4.0</td>\n",
       "      <td>2.0</td>\n",
       "      <td>0.0</td>\n",
       "      <td>0.0</td>\n",
       "      <td>0.0</td>\n",
       "      <td>NaN</td>\n",
       "      <td>...</td>\n",
       "      <td>-1.0</td>\n",
       "      <td>1.0</td>\n",
       "      <td>-1.0</td>\n",
       "      <td>-1.0</td>\n",
       "      <td>-1.0</td>\n",
       "      <td>-1.0</td>\n",
       "      <td>NaN</td>\n",
       "      <td>6.0</td>\n",
       "      <td>NaN</td>\n",
       "      <td>1.0</td>\n",
       "    </tr>\n",
       "    <tr>\n",
       "      <th>2</th>\n",
       "      <td>177.0</td>\n",
       "      <td>779.0</td>\n",
       "      <td>2.0</td>\n",
       "      <td>0.0</td>\n",
       "      <td>5.0</td>\n",
       "      <td>2.0</td>\n",
       "      <td>0.0</td>\n",
       "      <td>0.0</td>\n",
       "      <td>0.0</td>\n",
       "      <td>NaN</td>\n",
       "      <td>...</td>\n",
       "      <td>-1.0</td>\n",
       "      <td>1.0</td>\n",
       "      <td>-1.0</td>\n",
       "      <td>-1.0</td>\n",
       "      <td>-1.0</td>\n",
       "      <td>-1.0</td>\n",
       "      <td>NaN</td>\n",
       "      <td>6.0</td>\n",
       "      <td>NaN</td>\n",
       "      <td>1.0</td>\n",
       "    </tr>\n",
       "    <tr>\n",
       "      <th>3</th>\n",
       "      <td>411.0</td>\n",
       "      <td>1192.0</td>\n",
       "      <td>2.0</td>\n",
       "      <td>0.0</td>\n",
       "      <td>6.0</td>\n",
       "      <td>2.0</td>\n",
       "      <td>0.0</td>\n",
       "      <td>0.0</td>\n",
       "      <td>0.0</td>\n",
       "      <td>NaN</td>\n",
       "      <td>...</td>\n",
       "      <td>-1.0</td>\n",
       "      <td>1.0</td>\n",
       "      <td>-1.0</td>\n",
       "      <td>-1.0</td>\n",
       "      <td>-1.0</td>\n",
       "      <td>-1.0</td>\n",
       "      <td>NaN</td>\n",
       "      <td>6.0</td>\n",
       "      <td>NaN</td>\n",
       "      <td>1.0</td>\n",
       "    </tr>\n",
       "    <tr>\n",
       "      <th>4</th>\n",
       "      <td>533.0</td>\n",
       "      <td>1147.0</td>\n",
       "      <td>4.0</td>\n",
       "      <td>0.0</td>\n",
       "      <td>5.0</td>\n",
       "      <td>0.0</td>\n",
       "      <td>0.0</td>\n",
       "      <td>0.0</td>\n",
       "      <td>0.0</td>\n",
       "      <td>NaN</td>\n",
       "      <td>...</td>\n",
       "      <td>-1.0</td>\n",
       "      <td>-1.0</td>\n",
       "      <td>-1.0</td>\n",
       "      <td>-1.0</td>\n",
       "      <td>-1.0</td>\n",
       "      <td>-1.0</td>\n",
       "      <td>NaN</td>\n",
       "      <td>2.0</td>\n",
       "      <td>NaN</td>\n",
       "      <td>1.0</td>\n",
       "    </tr>\n",
       "  </tbody>\n",
       "</table>\n",
       "<p>5 rows × 46 columns</p>\n",
       "</div>"
      ],
      "text/plain": [
       "       b       e   AC   FM   UC   DL   DS   DP   DR  Unnamed: 9  ...    E  \\\n",
       "0  240.0   357.0  0.0  0.0  0.0  0.0  0.0  0.0  0.0         NaN  ... -1.0   \n",
       "1    5.0   632.0  4.0  0.0  4.0  2.0  0.0  0.0  0.0         NaN  ... -1.0   \n",
       "2  177.0   779.0  2.0  0.0  5.0  2.0  0.0  0.0  0.0         NaN  ... -1.0   \n",
       "3  411.0  1192.0  2.0  0.0  6.0  2.0  0.0  0.0  0.0         NaN  ... -1.0   \n",
       "4  533.0  1147.0  4.0  0.0  5.0  0.0  0.0  0.0  0.0         NaN  ... -1.0   \n",
       "\n",
       "    AD   DE   LD   FS  SUSP  Unnamed: 42  CLASS  Unnamed: 44  NSP  \n",
       "0 -1.0 -1.0 -1.0  1.0  -1.0          NaN    9.0          NaN  2.0  \n",
       "1  1.0 -1.0 -1.0 -1.0  -1.0          NaN    6.0          NaN  1.0  \n",
       "2  1.0 -1.0 -1.0 -1.0  -1.0          NaN    6.0          NaN  1.0  \n",
       "3  1.0 -1.0 -1.0 -1.0  -1.0          NaN    6.0          NaN  1.0  \n",
       "4 -1.0 -1.0 -1.0 -1.0  -1.0          NaN    2.0          NaN  1.0  \n",
       "\n",
       "[5 rows x 46 columns]"
      ]
     },
     "execution_count": 61,
     "metadata": {},
     "output_type": "execute_result"
    }
   ],
   "source": [
    "ori_data.head()"
   ]
  },
  {
   "cell_type": "code",
   "execution_count": 62,
   "metadata": {},
   "outputs": [],
   "source": [
    "try:\n",
    "    # Specify the columns you want to read using 'usecols'\n",
    "    columns_to_read = [\n",
    "        'LB', 'AC', 'FM', 'UC', 'DL', 'DS', 'DP', 'ASTV', 'MSTV', 'ALTV', 'MLTV', \n",
    "        'Width', 'Min', 'Max', 'Nmax', 'Nzeros', 'Mode', 'Mean', 'Median', \n",
    "        'Variance', 'Tendency', 'CLASS', 'NSP'\n",
    "    ]\n",
    "    useful_data = pd.read_excel('../data/CTG.xls', sheet_name='Data', skiprows=1, usecols=columns_to_read)\n",
    "    useful_data.head()\n",
    "except FileNotFoundError:\n",
    "    print(\" 'CTG.xls' not found, check local path.\")"
   ]
  },
  {
   "cell_type": "code",
   "execution_count": 63,
   "metadata": {},
   "outputs": [
    {
     "data": {
      "application/vnd.microsoft.datawrangler.viewer.v0+json": {
       "columns": [
        {
         "name": "index",
         "rawType": "int64",
         "type": "integer"
        },
        {
         "name": "AC",
         "rawType": "float64",
         "type": "float"
        },
        {
         "name": "FM",
         "rawType": "float64",
         "type": "float"
        },
        {
         "name": "UC",
         "rawType": "float64",
         "type": "float"
        },
        {
         "name": "DL",
         "rawType": "float64",
         "type": "float"
        },
        {
         "name": "DS",
         "rawType": "float64",
         "type": "float"
        },
        {
         "name": "DP",
         "rawType": "float64",
         "type": "float"
        },
        {
         "name": "LB",
         "rawType": "float64",
         "type": "float"
        },
        {
         "name": "ASTV",
         "rawType": "float64",
         "type": "float"
        },
        {
         "name": "MSTV",
         "rawType": "float64",
         "type": "float"
        },
        {
         "name": "ALTV",
         "rawType": "float64",
         "type": "float"
        },
        {
         "name": "MLTV",
         "rawType": "float64",
         "type": "float"
        },
        {
         "name": "Width",
         "rawType": "float64",
         "type": "float"
        },
        {
         "name": "Min",
         "rawType": "float64",
         "type": "float"
        },
        {
         "name": "Max",
         "rawType": "float64",
         "type": "float"
        },
        {
         "name": "Nmax",
         "rawType": "float64",
         "type": "float"
        },
        {
         "name": "Nzeros",
         "rawType": "float64",
         "type": "float"
        },
        {
         "name": "Mode",
         "rawType": "float64",
         "type": "float"
        },
        {
         "name": "Mean",
         "rawType": "float64",
         "type": "float"
        },
        {
         "name": "Median",
         "rawType": "float64",
         "type": "float"
        },
        {
         "name": "Variance",
         "rawType": "float64",
         "type": "float"
        },
        {
         "name": "Tendency",
         "rawType": "float64",
         "type": "float"
        },
        {
         "name": "CLASS",
         "rawType": "float64",
         "type": "float"
        },
        {
         "name": "NSP",
         "rawType": "float64",
         "type": "float"
        }
       ],
       "ref": "6c01e741-7bf0-45cc-8884-4974410a6973",
       "rows": [
        [
         "0",
         "0.0",
         "0.0",
         "0.0",
         "0.0",
         "0.0",
         "0.0",
         "120.0",
         "73.0",
         "0.5",
         "43.0",
         "2.4",
         "64.0",
         "62.0",
         "126.0",
         "2.0",
         "0.0",
         "120.0",
         "137.0",
         "121.0",
         "73.0",
         "1.0",
         "9.0",
         "2.0"
        ],
        [
         "1",
         "4.0",
         "0.0",
         "4.0",
         "2.0",
         "0.0",
         "0.0",
         "132.0",
         "17.0",
         "2.1",
         "0.0",
         "10.4",
         "130.0",
         "68.0",
         "198.0",
         "6.0",
         "1.0",
         "141.0",
         "136.0",
         "140.0",
         "12.0",
         "0.0",
         "6.0",
         "1.0"
        ],
        [
         "2",
         "2.0",
         "0.0",
         "5.0",
         "2.0",
         "0.0",
         "0.0",
         "133.0",
         "16.0",
         "2.1",
         "0.0",
         "13.4",
         "130.0",
         "68.0",
         "198.0",
         "5.0",
         "1.0",
         "141.0",
         "135.0",
         "138.0",
         "13.0",
         "0.0",
         "6.0",
         "1.0"
        ],
        [
         "3",
         "2.0",
         "0.0",
         "6.0",
         "2.0",
         "0.0",
         "0.0",
         "134.0",
         "16.0",
         "2.4",
         "0.0",
         "23.0",
         "117.0",
         "53.0",
         "170.0",
         "11.0",
         "0.0",
         "137.0",
         "134.0",
         "137.0",
         "13.0",
         "1.0",
         "6.0",
         "1.0"
        ],
        [
         "4",
         "4.0",
         "0.0",
         "5.0",
         "0.0",
         "0.0",
         "0.0",
         "132.0",
         "16.0",
         "2.4",
         "0.0",
         "19.9",
         "117.0",
         "53.0",
         "170.0",
         "9.0",
         "0.0",
         "137.0",
         "136.0",
         "138.0",
         "11.0",
         "1.0",
         "2.0",
         "1.0"
        ]
       ],
       "shape": {
        "columns": 23,
        "rows": 5
       }
      },
      "text/html": [
       "<div>\n",
       "<style scoped>\n",
       "    .dataframe tbody tr th:only-of-type {\n",
       "        vertical-align: middle;\n",
       "    }\n",
       "\n",
       "    .dataframe tbody tr th {\n",
       "        vertical-align: top;\n",
       "    }\n",
       "\n",
       "    .dataframe thead th {\n",
       "        text-align: right;\n",
       "    }\n",
       "</style>\n",
       "<table border=\"1\" class=\"dataframe\">\n",
       "  <thead>\n",
       "    <tr style=\"text-align: right;\">\n",
       "      <th></th>\n",
       "      <th>AC</th>\n",
       "      <th>FM</th>\n",
       "      <th>UC</th>\n",
       "      <th>DL</th>\n",
       "      <th>DS</th>\n",
       "      <th>DP</th>\n",
       "      <th>LB</th>\n",
       "      <th>ASTV</th>\n",
       "      <th>MSTV</th>\n",
       "      <th>ALTV</th>\n",
       "      <th>...</th>\n",
       "      <th>Max</th>\n",
       "      <th>Nmax</th>\n",
       "      <th>Nzeros</th>\n",
       "      <th>Mode</th>\n",
       "      <th>Mean</th>\n",
       "      <th>Median</th>\n",
       "      <th>Variance</th>\n",
       "      <th>Tendency</th>\n",
       "      <th>CLASS</th>\n",
       "      <th>NSP</th>\n",
       "    </tr>\n",
       "  </thead>\n",
       "  <tbody>\n",
       "    <tr>\n",
       "      <th>0</th>\n",
       "      <td>0.0</td>\n",
       "      <td>0.0</td>\n",
       "      <td>0.0</td>\n",
       "      <td>0.0</td>\n",
       "      <td>0.0</td>\n",
       "      <td>0.0</td>\n",
       "      <td>120.0</td>\n",
       "      <td>73.0</td>\n",
       "      <td>0.5</td>\n",
       "      <td>43.0</td>\n",
       "      <td>...</td>\n",
       "      <td>126.0</td>\n",
       "      <td>2.0</td>\n",
       "      <td>0.0</td>\n",
       "      <td>120.0</td>\n",
       "      <td>137.0</td>\n",
       "      <td>121.0</td>\n",
       "      <td>73.0</td>\n",
       "      <td>1.0</td>\n",
       "      <td>9.0</td>\n",
       "      <td>2.0</td>\n",
       "    </tr>\n",
       "    <tr>\n",
       "      <th>1</th>\n",
       "      <td>4.0</td>\n",
       "      <td>0.0</td>\n",
       "      <td>4.0</td>\n",
       "      <td>2.0</td>\n",
       "      <td>0.0</td>\n",
       "      <td>0.0</td>\n",
       "      <td>132.0</td>\n",
       "      <td>17.0</td>\n",
       "      <td>2.1</td>\n",
       "      <td>0.0</td>\n",
       "      <td>...</td>\n",
       "      <td>198.0</td>\n",
       "      <td>6.0</td>\n",
       "      <td>1.0</td>\n",
       "      <td>141.0</td>\n",
       "      <td>136.0</td>\n",
       "      <td>140.0</td>\n",
       "      <td>12.0</td>\n",
       "      <td>0.0</td>\n",
       "      <td>6.0</td>\n",
       "      <td>1.0</td>\n",
       "    </tr>\n",
       "    <tr>\n",
       "      <th>2</th>\n",
       "      <td>2.0</td>\n",
       "      <td>0.0</td>\n",
       "      <td>5.0</td>\n",
       "      <td>2.0</td>\n",
       "      <td>0.0</td>\n",
       "      <td>0.0</td>\n",
       "      <td>133.0</td>\n",
       "      <td>16.0</td>\n",
       "      <td>2.1</td>\n",
       "      <td>0.0</td>\n",
       "      <td>...</td>\n",
       "      <td>198.0</td>\n",
       "      <td>5.0</td>\n",
       "      <td>1.0</td>\n",
       "      <td>141.0</td>\n",
       "      <td>135.0</td>\n",
       "      <td>138.0</td>\n",
       "      <td>13.0</td>\n",
       "      <td>0.0</td>\n",
       "      <td>6.0</td>\n",
       "      <td>1.0</td>\n",
       "    </tr>\n",
       "    <tr>\n",
       "      <th>3</th>\n",
       "      <td>2.0</td>\n",
       "      <td>0.0</td>\n",
       "      <td>6.0</td>\n",
       "      <td>2.0</td>\n",
       "      <td>0.0</td>\n",
       "      <td>0.0</td>\n",
       "      <td>134.0</td>\n",
       "      <td>16.0</td>\n",
       "      <td>2.4</td>\n",
       "      <td>0.0</td>\n",
       "      <td>...</td>\n",
       "      <td>170.0</td>\n",
       "      <td>11.0</td>\n",
       "      <td>0.0</td>\n",
       "      <td>137.0</td>\n",
       "      <td>134.0</td>\n",
       "      <td>137.0</td>\n",
       "      <td>13.0</td>\n",
       "      <td>1.0</td>\n",
       "      <td>6.0</td>\n",
       "      <td>1.0</td>\n",
       "    </tr>\n",
       "    <tr>\n",
       "      <th>4</th>\n",
       "      <td>4.0</td>\n",
       "      <td>0.0</td>\n",
       "      <td>5.0</td>\n",
       "      <td>0.0</td>\n",
       "      <td>0.0</td>\n",
       "      <td>0.0</td>\n",
       "      <td>132.0</td>\n",
       "      <td>16.0</td>\n",
       "      <td>2.4</td>\n",
       "      <td>0.0</td>\n",
       "      <td>...</td>\n",
       "      <td>170.0</td>\n",
       "      <td>9.0</td>\n",
       "      <td>0.0</td>\n",
       "      <td>137.0</td>\n",
       "      <td>136.0</td>\n",
       "      <td>138.0</td>\n",
       "      <td>11.0</td>\n",
       "      <td>1.0</td>\n",
       "      <td>2.0</td>\n",
       "      <td>1.0</td>\n",
       "    </tr>\n",
       "  </tbody>\n",
       "</table>\n",
       "<p>5 rows × 23 columns</p>\n",
       "</div>"
      ],
      "text/plain": [
       "    AC   FM   UC   DL   DS   DP     LB  ASTV  MSTV  ALTV  ...    Max  Nmax  \\\n",
       "0  0.0  0.0  0.0  0.0  0.0  0.0  120.0  73.0   0.5  43.0  ...  126.0   2.0   \n",
       "1  4.0  0.0  4.0  2.0  0.0  0.0  132.0  17.0   2.1   0.0  ...  198.0   6.0   \n",
       "2  2.0  0.0  5.0  2.0  0.0  0.0  133.0  16.0   2.1   0.0  ...  198.0   5.0   \n",
       "3  2.0  0.0  6.0  2.0  0.0  0.0  134.0  16.0   2.4   0.0  ...  170.0  11.0   \n",
       "4  4.0  0.0  5.0  0.0  0.0  0.0  132.0  16.0   2.4   0.0  ...  170.0   9.0   \n",
       "\n",
       "   Nzeros   Mode   Mean  Median  Variance  Tendency  CLASS  NSP  \n",
       "0     0.0  120.0  137.0   121.0      73.0       1.0    9.0  2.0  \n",
       "1     1.0  141.0  136.0   140.0      12.0       0.0    6.0  1.0  \n",
       "2     1.0  141.0  135.0   138.0      13.0       0.0    6.0  1.0  \n",
       "3     0.0  137.0  134.0   137.0      13.0       1.0    6.0  1.0  \n",
       "4     0.0  137.0  136.0   138.0      11.0       1.0    2.0  1.0  \n",
       "\n",
       "[5 rows x 23 columns]"
      ]
     },
     "execution_count": 63,
     "metadata": {},
     "output_type": "execute_result"
    }
   ],
   "source": [
    "useful_data.head()"
   ]
  },
  {
   "cell_type": "code",
   "execution_count": 64,
   "metadata": {},
   "outputs": [
    {
     "name": "stdout",
     "output_type": "stream",
     "text": [
      "Data after removing rows with missing values:\n",
      "    AC   FM   UC   DL   DS   DP     LB  ASTV  MSTV  ALTV  ...    Max  Nmax  \\\n",
      "0  0.0  0.0  0.0  0.0  0.0  0.0  120.0  73.0   0.5  43.0  ...  126.0   2.0   \n",
      "1  4.0  0.0  4.0  2.0  0.0  0.0  132.0  17.0   2.1   0.0  ...  198.0   6.0   \n",
      "2  2.0  0.0  5.0  2.0  0.0  0.0  133.0  16.0   2.1   0.0  ...  198.0   5.0   \n",
      "3  2.0  0.0  6.0  2.0  0.0  0.0  134.0  16.0   2.4   0.0  ...  170.0  11.0   \n",
      "4  4.0  0.0  5.0  0.0  0.0  0.0  132.0  16.0   2.4   0.0  ...  170.0   9.0   \n",
      "\n",
      "   Nzeros   Mode   Mean  Median  Variance  Tendency  CLASS  NSP  \n",
      "0     0.0  120.0  137.0   121.0      73.0       1.0    9.0  2.0  \n",
      "1     1.0  141.0  136.0   140.0      12.0       0.0    6.0  1.0  \n",
      "2     1.0  141.0  135.0   138.0      13.0       0.0    6.0  1.0  \n",
      "3     0.0  137.0  134.0   137.0      13.0       1.0    6.0  1.0  \n",
      "4     0.0  137.0  136.0   138.0      11.0       1.0    2.0  1.0  \n",
      "\n",
      "[5 rows x 23 columns]\n",
      "(2126, 23)\n"
     ]
    }
   ],
   "source": [
    "# Remove rows with any missing values\n",
    "useful_data = useful_data.dropna()\n",
    "\n",
    "print(\"Data after removing rows with missing values:\")\n",
    "print(useful_data.head())\n",
    "print(useful_data.shape)"
   ]
  },
  {
   "cell_type": "code",
   "execution_count": 65,
   "metadata": {},
   "outputs": [
    {
     "name": "stdout",
     "output_type": "stream",
     "text": [
      "(2126, 23)\n"
     ]
    }
   ],
   "source": [
    "print(useful_data.shape)"
   ]
  },
  {
   "cell_type": "code",
   "execution_count": 66,
   "metadata": {},
   "outputs": [
    {
     "name": "stdout",
     "output_type": "stream",
     "text": [
      "---training set---\n",
      "\n",
      "       AC   FM   UC   DL   DS   DP     LB  ASTV  MSTV  ALTV  ...    Max  Nmax  \\\n",
      "1718  8.0  0.0  2.0  1.0  0.0  0.0  131.0  54.0   1.5   0.0  ...  169.0   7.0   \n",
      "857   0.0  0.0  4.0  0.0  0.0  0.0  142.0  44.0   0.8   1.0  ...  158.0   1.0   \n",
      "1075  2.0  0.0  6.0  5.0  0.0  0.0  137.0  27.0   1.6   0.0  ...  167.0   2.0   \n",
      "371   0.0  4.0  1.0  1.0  0.0  0.0  138.0  55.0   0.7   0.0  ...  151.0   4.0   \n",
      "222   1.0  6.0  0.0  0.0  0.0  0.0  129.0  47.0   0.9   0.0  ...  156.0   6.0   \n",
      "\n",
      "      Nzeros   Mode   Mean  Median  Variance  Tendency  CLASS  NSP  \n",
      "1718     0.0  151.0  142.0   147.0      22.0       1.0    2.0  1.0  \n",
      "857      0.0  145.0  146.0   147.0       2.0       0.0    1.0  1.0  \n",
      "1075     0.0  144.0  136.0   141.0      23.0       1.0    6.0  1.0  \n",
      "371      0.0  144.0  140.0   143.0       5.0       1.0    1.0  1.0  \n",
      "222      0.0  133.0  133.0   134.0       4.0       1.0    3.0  1.0  \n",
      "\n",
      "[5 rows x 23 columns]\n",
      "---testing set---\n",
      "\n",
      "       AC    FM   UC   DL   DS   DP     LB  ASTV  MSTV  ALTV  ...    Max  \\\n",
      "282   2.0  12.0  3.0  2.0  0.0  0.0  133.0  46.0   1.1   0.0  ...  164.0   \n",
      "1999  0.0   1.0  8.0  7.0  0.0  0.0  125.0  62.0   1.7   0.0  ...  140.0   \n",
      "1709  5.0   3.0  5.0  6.0  0.0  1.0  131.0  60.0   2.1   0.0  ...  168.0   \n",
      "988   8.0   0.0  4.0  0.0  0.0  0.0  131.0  29.0   1.3   0.0  ...  171.0   \n",
      "2018  0.0   0.0  8.0  7.0  0.0  1.0  125.0  64.0   1.3   0.0  ...  155.0   \n",
      "\n",
      "      Nmax  Nzeros   Mode   Mean  Median  Variance  Tendency  CLASS  NSP  \n",
      "282    5.0     0.0  139.0  135.0   138.0       9.0       0.0    6.0  1.0  \n",
      "1999   5.0     0.0  130.0  116.0   125.0      29.0       1.0    7.0  1.0  \n",
      "1709   8.0     0.0  133.0  127.0   132.0      21.0       0.0    6.0  1.0  \n",
      "988    8.0     0.0  143.0  145.0   145.0       9.0       1.0    2.0  1.0  \n",
      "2018   4.0     0.0  114.0  111.0   114.0       7.0       0.0    7.0  1.0  \n",
      "\n",
      "[5 rows x 23 columns]\n"
     ]
    }
   ],
   "source": [
    "from sklearn.model_selection import train_test_split\n",
    "\n",
    "# Split the data into training and testing sets (70% training, 30% testing)\n",
    "data_train, data_test = train_test_split(useful_data, test_size=0.3, random_state=42)\n",
    "\n",
    "print('---training set---\\n')\n",
    "print(data_train.head())\n",
    "\n",
    "print('---testing set---\\n')\n",
    "print(data_test.head())"
   ]
  },
  {
   "cell_type": "code",
   "execution_count": 67,
   "metadata": {},
   "outputs": [
    {
     "name": "stdout",
     "output_type": "stream",
     "text": [
      "Training data exported to ../data/manipulated_data_set/train_data.csv\n",
      "Testing data exported to ../data/manipulated_data_set/test_data.csv\n"
     ]
    }
   ],
   "source": [
    "# export training set to CSV\n",
    "train_csv_path = '../data/manipulated_data_set/train_data.csv'\n",
    "data_train.to_csv(train_csv_path, index=False)\n",
    "print(f\"Training data exported to {train_csv_path}\")\n",
    "\n",
    "# Export testing set to CSV\n",
    "test_csv_path = '../data/manipulated_data_set/test_data.csv'\n",
    "data_test.to_csv(test_csv_path, index=False)\n",
    "print(f\"Testing data exported to {test_csv_path}\")"
   ]
  },
  {
   "cell_type": "code",
   "execution_count": 68,
   "metadata": {},
   "outputs": [
    {
     "name": "stdout",
     "output_type": "stream",
     "text": [
      "Data after scaling:\n",
      "         AC        FM        UC        DL        DS       DP        LB  \\\n",
      "0 -0.764740 -0.195096 -1.285798 -0.628375 -0.057476 -0.27153 -1.352220   \n",
      "1  0.358852 -0.195096  0.119475  0.172060 -0.057476 -0.27153 -0.132526   \n",
      "2 -0.202944 -0.195096  0.470793  0.172060 -0.057476 -0.27153 -0.030884   \n",
      "3 -0.202944 -0.195096  0.822111  0.172060 -0.057476 -0.27153  0.070757   \n",
      "4  0.358852 -0.195096  0.470793 -0.628375 -0.057476 -0.27153 -0.132526   \n",
      "\n",
      "       ASTV      MSTV      ALTV  ...       Max      Nmax    Nzeros      Mode  \\\n",
      "0  1.513190 -0.943095  1.802542  ... -2.119592 -0.701397 -0.458444 -1.065614   \n",
      "1 -1.744751  0.868841 -0.535361  ...  1.893794  0.655137  0.958201  0.216638   \n",
      "2 -1.802928  0.868841 -0.535361  ...  1.893794  0.316003  0.958201  0.216638   \n",
      "3 -1.802928  1.208579 -0.535361  ...  0.333033  2.350804 -0.458444 -0.027600   \n",
      "4 -1.802928  1.208579 -0.535361  ...  0.333033  1.672537 -0.458444 -0.027600   \n",
      "\n",
      "       Mean    Median  Variance  Tendency  CLASS  NSP  \n",
      "0  0.153270 -1.181642  1.870569       1.0    9.0  2.0  \n",
      "1  0.089126  0.132038 -0.234998       0.0    6.0  1.0  \n",
      "2  0.024982 -0.006244 -0.200481       0.0    6.0  1.0  \n",
      "3 -0.039162 -0.075385 -0.200481       1.0    6.0  1.0  \n",
      "4  0.089126 -0.006244 -0.269516       1.0    2.0  1.0  \n",
      "\n",
      "[5 rows x 23 columns]\n"
     ]
    }
   ],
   "source": [
    "from sklearn.preprocessing import StandardScaler\n",
    "\n",
    "# Identify numeric columns (excluding categorical columns like 'CLASS' and 'NSP')\n",
    "numeric_columns = [\n",
    "    'LB', 'AC', 'FM', 'UC', 'DL', 'DS', 'DP', 'ASTV', 'MSTV', 'ALTV', 'MLTV', \n",
    "    'Width', 'Min', 'Max', 'Nmax', 'Nzeros', 'Mode', 'Mean', 'Median', \n",
    "    'Variance'\n",
    "]\n",
    "\n",
    "# Apply StandardScaler to numeric columns\n",
    "scaler = StandardScaler()\n",
    "useful_data[numeric_columns] = scaler.fit_transform(useful_data[numeric_columns])\n",
    "\n",
    "print(\"Data after scaling:\")\n",
    "print(useful_data.head())"
   ]
  },
  {
   "cell_type": "code",
   "execution_count": 69,
   "metadata": {},
   "outputs": [
    {
     "name": "stdout",
     "output_type": "stream",
     "text": [
      "Training data exported to ../data/manipulated_data_set/scale_train_data.csv\n",
      "Testing data exported to ../data/manipulated_data_set/scale_test_data.csv\n"
     ]
    }
   ],
   "source": [
    "# export scaled training set to CSV\n",
    "train_csv_path = '../data/manipulated_data_set/scale_train_data.csv'\n",
    "data_train.to_csv(train_csv_path, index=False)\n",
    "print(f\"Training data exported to {train_csv_path}\")\n",
    "\n",
    "# Export scaled testing set to CSV\n",
    "test_csv_path = '../data/manipulated_data_set/scale_test_data.csv'\n",
    "data_test.to_csv(test_csv_path, index=False)\n",
    "print(f\"Testing data exported to {test_csv_path}\")"
   ]
  },
  {
   "cell_type": "code",
   "execution_count": null,
   "metadata": {},
   "outputs": [],
   "source": []
  }
 ],
 "metadata": {
  "kernelspec": {
   "display_name": "base",
   "language": "python",
   "name": "python3"
  },
  "language_info": {
   "codemirror_mode": {
    "name": "ipython",
    "version": 3
   },
   "file_extension": ".py",
   "mimetype": "text/x-python",
   "name": "python",
   "nbconvert_exporter": "python",
   "pygments_lexer": "ipython3",
   "version": "3.12.7"
  }
 },
 "nbformat": 4,
 "nbformat_minor": 2
}

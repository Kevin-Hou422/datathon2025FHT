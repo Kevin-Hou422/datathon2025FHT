{
 "cells": [
  {
   "cell_type": "markdown",
   "metadata": {},
   "source": [
    "### This part is to clean and prepare the data  \n",
    "* _Fang_ written on 2025 10 02  \n"
   ]
  },
  {
   "cell_type": "code",
   "execution_count": null,
   "metadata": {},
   "outputs": [],
   "source": [
    "# import the necessary packages\n",
    "# To run this script, you need to have the following packages installed:\n",
    "# pandas, numpy, seaborn, xlrd (if not, pip install xlrd.)\n",
    "import pandas as pd\n",
    "import numpy as np\n",
    "import seaborn as sb"
   ]
  },
  {
   "cell_type": "code",
   "execution_count": 5,
   "metadata": {},
   "outputs": [],
   "source": [
    "# import data. \n",
    "# note that must clone to local first, \n",
    "# may cause error if direct use cloud folder. \n",
    "try:\n",
    "    ori_data = pd.read_excel('../data/CTG.xls', sheet_name='Data', skiprows=2)\n",
    "    ori_data.head()\n",
    "except FileNotFoundError:\n",
    "    print(\" 'CTG.xls' not found, check local path.\")"
   ]
  },
  {
   "cell_type": "code",
   "execution_count": 6,
   "metadata": {},
   "outputs": [
    {
     "data": {
      "application/vnd.microsoft.datawrangler.viewer.v0+json": {
       "columns": [
        {
         "name": "index",
         "rawType": "int64",
         "type": "integer"
        },
        {
         "name": "240",
         "rawType": "float64",
         "type": "float"
        },
        {
         "name": "357",
         "rawType": "float64",
         "type": "float"
        },
        {
         "name": "0",
         "rawType": "float64",
         "type": "float"
        },
        {
         "name": "0.1",
         "rawType": "float64",
         "type": "float"
        },
        {
         "name": "0.2",
         "rawType": "float64",
         "type": "float"
        },
        {
         "name": "0.3",
         "rawType": "float64",
         "type": "float"
        },
        {
         "name": "0.4",
         "rawType": "float64",
         "type": "float"
        },
        {
         "name": "0.5",
         "rawType": "float64",
         "type": "float"
        },
        {
         "name": "0.6",
         "rawType": "float64",
         "type": "float"
        },
        {
         "name": "Unnamed: 9",
         "rawType": "float64",
         "type": "float"
        },
        {
         "name": "120",
         "rawType": "float64",
         "type": "float"
        },
        {
         "name": "0.7",
         "rawType": "float64",
         "type": "float"
        },
        {
         "name": "0.8",
         "rawType": "float64",
         "type": "float"
        },
        {
         "name": "0.9",
         "rawType": "float64",
         "type": "float"
        },
        {
         "name": "0.10",
         "rawType": "float64",
         "type": "float"
        },
        {
         "name": "0.11",
         "rawType": "float64",
         "type": "float"
        },
        {
         "name": "0.12",
         "rawType": "float64",
         "type": "float"
        },
        {
         "name": "73",
         "rawType": "float64",
         "type": "float"
        },
        {
         "name": "0.5",
         "rawType": "float64",
         "type": "float"
        },
        {
         "name": "43",
         "rawType": "float64",
         "type": "float"
        },
        {
         "name": "2.4",
         "rawType": "float64",
         "type": "float"
        },
        {
         "name": "64",
         "rawType": "float64",
         "type": "float"
        },
        {
         "name": "62",
         "rawType": "float64",
         "type": "float"
        },
        {
         "name": "126",
         "rawType": "float64",
         "type": "float"
        },
        {
         "name": "2",
         "rawType": "float64",
         "type": "float"
        },
        {
         "name": "0.13",
         "rawType": "float64",
         "type": "float"
        },
        {
         "name": "120.1",
         "rawType": "float64",
         "type": "float"
        },
        {
         "name": "137",
         "rawType": "float64",
         "type": "float"
        },
        {
         "name": "121",
         "rawType": "float64",
         "type": "float"
        },
        {
         "name": "73.1",
         "rawType": "float64",
         "type": "float"
        },
        {
         "name": "1",
         "rawType": "float64",
         "type": "float"
        },
        {
         "name": "Unnamed: 31",
         "rawType": "float64",
         "type": "float"
        },
        {
         "name": "-1",
         "rawType": "float64",
         "type": "float"
        },
        {
         "name": "-1.1",
         "rawType": "float64",
         "type": "float"
        },
        {
         "name": "-1.2",
         "rawType": "float64",
         "type": "float"
        },
        {
         "name": "-1.3",
         "rawType": "float64",
         "type": "float"
        },
        {
         "name": "-1.4",
         "rawType": "float64",
         "type": "float"
        },
        {
         "name": "-1.5",
         "rawType": "float64",
         "type": "float"
        },
        {
         "name": "-1.6",
         "rawType": "float64",
         "type": "float"
        },
        {
         "name": "-1.7",
         "rawType": "float64",
         "type": "float"
        },
        {
         "name": "1.1",
         "rawType": "float64",
         "type": "float"
        },
        {
         "name": "-1.8",
         "rawType": "float64",
         "type": "float"
        },
        {
         "name": "Unnamed: 42",
         "rawType": "float64",
         "type": "float"
        },
        {
         "name": "9",
         "rawType": "float64",
         "type": "float"
        },
        {
         "name": "Unnamed: 44",
         "rawType": "float64",
         "type": "float"
        },
        {
         "name": "2.1",
         "rawType": "float64",
         "type": "float"
        }
       ],
       "ref": "fef431db-3594-4bd4-a2e7-d5614082b182",
       "rows": [
        [
         "0",
         "5.0",
         "632.0",
         "4.0",
         "0.0",
         "4.0",
         "2.0",
         "0.0",
         "0.0",
         "0.0",
         null,
         "132.0",
         "0.006379585326953748",
         "0.0",
         "0.006379585326953748",
         "0.003189792663476874",
         "0.0",
         "0.0",
         "17.0",
         "2.1",
         "0.0",
         "10.4",
         "130.0",
         "68.0",
         "198.0",
         "6.0",
         "1.0",
         "141.0",
         "136.0",
         "140.0",
         "12.0",
         "0.0",
         null,
         "-1.0",
         "-1.0",
         "-1.0",
         "-1.0",
         "-1.0",
         "1.0",
         "-1.0",
         "-1.0",
         "-1.0",
         "-1.0",
         null,
         "6.0",
         null,
         "1.0"
        ],
        [
         "1",
         "177.0",
         "779.0",
         "2.0",
         "0.0",
         "5.0",
         "2.0",
         "0.0",
         "0.0",
         "0.0",
         null,
         "133.0",
         "0.0033222591362126247",
         "0.0",
         "0.008305647840531562",
         "0.0033222591362126247",
         "0.0",
         "0.0",
         "16.0",
         "2.1",
         "0.0",
         "13.4",
         "130.0",
         "68.0",
         "198.0",
         "5.0",
         "1.0",
         "141.0",
         "135.0",
         "138.0",
         "13.0",
         "0.0",
         null,
         "-1.0",
         "-1.0",
         "-1.0",
         "-1.0",
         "-1.0",
         "1.0",
         "-1.0",
         "-1.0",
         "-1.0",
         "-1.0",
         null,
         "6.0",
         null,
         "1.0"
        ],
        [
         "2",
         "411.0",
         "1192.0",
         "2.0",
         "0.0",
         "6.0",
         "2.0",
         "0.0",
         "0.0",
         "0.0",
         null,
         "134.0",
         "0.002560819462227913",
         "0.0",
         "0.0076824583866837385",
         "0.002560819462227913",
         "0.0",
         "0.0",
         "16.0",
         "2.4",
         "0.0",
         "23.0",
         "117.0",
         "53.0",
         "170.0",
         "11.0",
         "0.0",
         "137.0",
         "134.0",
         "137.0",
         "13.0",
         "1.0",
         null,
         "-1.0",
         "-1.0",
         "-1.0",
         "-1.0",
         "-1.0",
         "1.0",
         "-1.0",
         "-1.0",
         "-1.0",
         "-1.0",
         null,
         "6.0",
         null,
         "1.0"
        ],
        [
         "3",
         "533.0",
         "1147.0",
         "4.0",
         "0.0",
         "5.0",
         "0.0",
         "0.0",
         "0.0",
         "0.0",
         null,
         "132.0",
         "0.006514657980456026",
         "0.0",
         "0.008143322475570033",
         "0.0",
         "0.0",
         "0.0",
         "16.0",
         "2.4",
         "0.0",
         "19.9",
         "117.0",
         "53.0",
         "170.0",
         "9.0",
         "0.0",
         "137.0",
         "136.0",
         "138.0",
         "11.0",
         "1.0",
         null,
         "-1.0",
         "1.0",
         "-1.0",
         "-1.0",
         "-1.0",
         "-1.0",
         "-1.0",
         "-1.0",
         "-1.0",
         "-1.0",
         null,
         "2.0",
         null,
         "1.0"
        ],
        [
         "4",
         "0.0",
         "953.0",
         "1.0",
         "0.0",
         "10.0",
         "9.0",
         "0.0",
         "2.0",
         "0.0",
         null,
         "134.0",
         "0.001049317943336831",
         "0.0",
         "0.01049317943336831",
         "0.00944386149003148",
         "0.0",
         "0.002098635886673662",
         "26.0",
         "5.9",
         "0.0",
         "0.0",
         "150.0",
         "50.0",
         "200.0",
         "5.0",
         "3.0",
         "76.0",
         "107.0",
         "107.0",
         "170.0",
         "0.0",
         null,
         "-1.0",
         "-1.0",
         "-1.0",
         "-1.0",
         "-1.0",
         "-1.0",
         "-1.0",
         "1.0",
         "-1.0",
         "-1.0",
         null,
         "8.0",
         null,
         "3.0"
        ]
       ],
       "shape": {
        "columns": 46,
        "rows": 5
       }
      },
      "text/html": [
       "<div>\n",
       "<style scoped>\n",
       "    .dataframe tbody tr th:only-of-type {\n",
       "        vertical-align: middle;\n",
       "    }\n",
       "\n",
       "    .dataframe tbody tr th {\n",
       "        vertical-align: top;\n",
       "    }\n",
       "\n",
       "    .dataframe thead th {\n",
       "        text-align: right;\n",
       "    }\n",
       "</style>\n",
       "<table border=\"1\" class=\"dataframe\">\n",
       "  <thead>\n",
       "    <tr style=\"text-align: right;\">\n",
       "      <th></th>\n",
       "      <th>240</th>\n",
       "      <th>357</th>\n",
       "      <th>0</th>\n",
       "      <th>0.1</th>\n",
       "      <th>0.2</th>\n",
       "      <th>0.3</th>\n",
       "      <th>0.4</th>\n",
       "      <th>0.5</th>\n",
       "      <th>0.6</th>\n",
       "      <th>Unnamed: 9</th>\n",
       "      <th>...</th>\n",
       "      <th>-1.4</th>\n",
       "      <th>-1.5</th>\n",
       "      <th>-1.6</th>\n",
       "      <th>-1.7</th>\n",
       "      <th>1.1</th>\n",
       "      <th>-1.8</th>\n",
       "      <th>Unnamed: 42</th>\n",
       "      <th>9</th>\n",
       "      <th>Unnamed: 44</th>\n",
       "      <th>2.1</th>\n",
       "    </tr>\n",
       "  </thead>\n",
       "  <tbody>\n",
       "    <tr>\n",
       "      <th>0</th>\n",
       "      <td>5.0</td>\n",
       "      <td>632.0</td>\n",
       "      <td>4.0</td>\n",
       "      <td>0.0</td>\n",
       "      <td>4.0</td>\n",
       "      <td>2.0</td>\n",
       "      <td>0.0</td>\n",
       "      <td>0.0</td>\n",
       "      <td>0.0</td>\n",
       "      <td>NaN</td>\n",
       "      <td>...</td>\n",
       "      <td>-1.0</td>\n",
       "      <td>1.0</td>\n",
       "      <td>-1.0</td>\n",
       "      <td>-1.0</td>\n",
       "      <td>-1.0</td>\n",
       "      <td>-1.0</td>\n",
       "      <td>NaN</td>\n",
       "      <td>6.0</td>\n",
       "      <td>NaN</td>\n",
       "      <td>1.0</td>\n",
       "    </tr>\n",
       "    <tr>\n",
       "      <th>1</th>\n",
       "      <td>177.0</td>\n",
       "      <td>779.0</td>\n",
       "      <td>2.0</td>\n",
       "      <td>0.0</td>\n",
       "      <td>5.0</td>\n",
       "      <td>2.0</td>\n",
       "      <td>0.0</td>\n",
       "      <td>0.0</td>\n",
       "      <td>0.0</td>\n",
       "      <td>NaN</td>\n",
       "      <td>...</td>\n",
       "      <td>-1.0</td>\n",
       "      <td>1.0</td>\n",
       "      <td>-1.0</td>\n",
       "      <td>-1.0</td>\n",
       "      <td>-1.0</td>\n",
       "      <td>-1.0</td>\n",
       "      <td>NaN</td>\n",
       "      <td>6.0</td>\n",
       "      <td>NaN</td>\n",
       "      <td>1.0</td>\n",
       "    </tr>\n",
       "    <tr>\n",
       "      <th>2</th>\n",
       "      <td>411.0</td>\n",
       "      <td>1192.0</td>\n",
       "      <td>2.0</td>\n",
       "      <td>0.0</td>\n",
       "      <td>6.0</td>\n",
       "      <td>2.0</td>\n",
       "      <td>0.0</td>\n",
       "      <td>0.0</td>\n",
       "      <td>0.0</td>\n",
       "      <td>NaN</td>\n",
       "      <td>...</td>\n",
       "      <td>-1.0</td>\n",
       "      <td>1.0</td>\n",
       "      <td>-1.0</td>\n",
       "      <td>-1.0</td>\n",
       "      <td>-1.0</td>\n",
       "      <td>-1.0</td>\n",
       "      <td>NaN</td>\n",
       "      <td>6.0</td>\n",
       "      <td>NaN</td>\n",
       "      <td>1.0</td>\n",
       "    </tr>\n",
       "    <tr>\n",
       "      <th>3</th>\n",
       "      <td>533.0</td>\n",
       "      <td>1147.0</td>\n",
       "      <td>4.0</td>\n",
       "      <td>0.0</td>\n",
       "      <td>5.0</td>\n",
       "      <td>0.0</td>\n",
       "      <td>0.0</td>\n",
       "      <td>0.0</td>\n",
       "      <td>0.0</td>\n",
       "      <td>NaN</td>\n",
       "      <td>...</td>\n",
       "      <td>-1.0</td>\n",
       "      <td>-1.0</td>\n",
       "      <td>-1.0</td>\n",
       "      <td>-1.0</td>\n",
       "      <td>-1.0</td>\n",
       "      <td>-1.0</td>\n",
       "      <td>NaN</td>\n",
       "      <td>2.0</td>\n",
       "      <td>NaN</td>\n",
       "      <td>1.0</td>\n",
       "    </tr>\n",
       "    <tr>\n",
       "      <th>4</th>\n",
       "      <td>0.0</td>\n",
       "      <td>953.0</td>\n",
       "      <td>1.0</td>\n",
       "      <td>0.0</td>\n",
       "      <td>10.0</td>\n",
       "      <td>9.0</td>\n",
       "      <td>0.0</td>\n",
       "      <td>2.0</td>\n",
       "      <td>0.0</td>\n",
       "      <td>NaN</td>\n",
       "      <td>...</td>\n",
       "      <td>-1.0</td>\n",
       "      <td>-1.0</td>\n",
       "      <td>-1.0</td>\n",
       "      <td>1.0</td>\n",
       "      <td>-1.0</td>\n",
       "      <td>-1.0</td>\n",
       "      <td>NaN</td>\n",
       "      <td>8.0</td>\n",
       "      <td>NaN</td>\n",
       "      <td>3.0</td>\n",
       "    </tr>\n",
       "  </tbody>\n",
       "</table>\n",
       "<p>5 rows × 46 columns</p>\n",
       "</div>"
      ],
      "text/plain": [
       "     240     357    0  0.1   0.2  0.3  0.4  0.5  0.6  Unnamed: 9  ...  -1.4  \\\n",
       "0    5.0   632.0  4.0  0.0   4.0  2.0  0.0  0.0  0.0         NaN  ...  -1.0   \n",
       "1  177.0   779.0  2.0  0.0   5.0  2.0  0.0  0.0  0.0         NaN  ...  -1.0   \n",
       "2  411.0  1192.0  2.0  0.0   6.0  2.0  0.0  0.0  0.0         NaN  ...  -1.0   \n",
       "3  533.0  1147.0  4.0  0.0   5.0  0.0  0.0  0.0  0.0         NaN  ...  -1.0   \n",
       "4    0.0   953.0  1.0  0.0  10.0  9.0  0.0  2.0  0.0         NaN  ...  -1.0   \n",
       "\n",
       "   -1.5  -1.6  -1.7  1.1  -1.8  Unnamed: 42    9  Unnamed: 44  2.1  \n",
       "0   1.0  -1.0  -1.0 -1.0  -1.0          NaN  6.0          NaN  1.0  \n",
       "1   1.0  -1.0  -1.0 -1.0  -1.0          NaN  6.0          NaN  1.0  \n",
       "2   1.0  -1.0  -1.0 -1.0  -1.0          NaN  6.0          NaN  1.0  \n",
       "3  -1.0  -1.0  -1.0 -1.0  -1.0          NaN  2.0          NaN  1.0  \n",
       "4  -1.0  -1.0   1.0 -1.0  -1.0          NaN  8.0          NaN  3.0  \n",
       "\n",
       "[5 rows x 46 columns]"
      ]
     },
     "execution_count": 6,
     "metadata": {},
     "output_type": "execute_result"
    }
   ],
   "source": [
    "ori_data.head()"
   ]
  },
  {
   "cell_type": "code",
   "execution_count": null,
   "metadata": {},
   "outputs": [],
   "source": []
  },
  {
   "cell_type": "code",
   "execution_count": null,
   "metadata": {},
   "outputs": [],
   "source": []
  },
  {
   "cell_type": "code",
   "execution_count": null,
   "metadata": {},
   "outputs": [],
   "source": []
  },
  {
   "cell_type": "code",
   "execution_count": null,
   "metadata": {},
   "outputs": [],
   "source": []
  },
  {
   "cell_type": "code",
   "execution_count": null,
   "metadata": {},
   "outputs": [],
   "source": []
  },
  {
   "cell_type": "code",
   "execution_count": null,
   "metadata": {},
   "outputs": [],
   "source": []
  },
  {
   "cell_type": "code",
   "execution_count": null,
   "metadata": {},
   "outputs": [],
   "source": []
  },
  {
   "cell_type": "code",
   "execution_count": 3,
   "metadata": {},
   "outputs": [
    {
     "ename": "ModuleNotFoundError",
     "evalue": "No module named 'pandas'",
     "output_type": "error",
     "traceback": [
      "\u001b[31m---------------------------------------------------------------------------\u001b[39m",
      "\u001b[31mModuleNotFoundError\u001b[39m                       Traceback (most recent call last)",
      "\u001b[36mCell\u001b[39m\u001b[36m \u001b[39m\u001b[32mIn[3]\u001b[39m\u001b[32m, line 11\u001b[39m\n\u001b[32m      8\u001b[39m \u001b[38;5;28;01mif\u001b[39;00m project_root \u001b[38;5;129;01mnot\u001b[39;00m \u001b[38;5;129;01min\u001b[39;00m sys.path:\n\u001b[32m      9\u001b[39m     sys.path.append(project_root)\n\u001b[32m---> \u001b[39m\u001b[32m11\u001b[39m \u001b[38;5;28;01mfrom\u001b[39;00m\u001b[38;5;250m \u001b[39m\u001b[34;01msrc\u001b[39;00m\u001b[34;01m.\u001b[39;00m\u001b[34;01mdata_cleaning\u001b[39;00m\u001b[38;5;250m \u001b[39m\u001b[38;5;28;01mimport\u001b[39;00m clean_ctg_data\n\u001b[32m     13\u001b[39m file_path = \u001b[33m'\u001b[39m\u001b[33mdata/CTG.xls\u001b[39m\u001b[33m'\u001b[39m\n\u001b[32m     14\u001b[39m df_cleaned, cleaning_report = clean_ctg_data(file_path)\n",
      "\u001b[36mFile \u001b[39m\u001b[32mc:\\Users\\Administrator\\OneDrive\\Desktop\\Hackthon 2025 draft\\src\\data_cleaning.py:1\u001b[39m\n\u001b[32m----> \u001b[39m\u001b[32m1\u001b[39m \u001b[38;5;28;01mimport\u001b[39;00m\u001b[38;5;250m \u001b[39m\u001b[34;01mpandas\u001b[39;00m\u001b[38;5;250m \u001b[39m\u001b[38;5;28;01mas\u001b[39;00m\u001b[38;5;250m \u001b[39m\u001b[34;01mpd\u001b[39;00m\n\u001b[32m      3\u001b[39m \u001b[38;5;28;01mdef\u001b[39;00m\u001b[38;5;250m \u001b[39m\u001b[34mclean_ctg_data\u001b[39m(file_path:\u001b[38;5;28mstr\u001b[39m):\n\u001b[32m      4\u001b[39m     report = []\n",
      "\u001b[31mModuleNotFoundError\u001b[39m: No module named 'pandas'"
     ]
    }
   ],
   "source": [
    "import sys\n",
    "import os\n",
    "\n",
    "notebook_dir = os.getcwd()\n",
    "\n",
    "project_root = os.path.dirname(notebook_dir)\n",
    "\n",
    "if project_root not in sys.path:\n",
    "    sys.path.append(project_root)\n",
    "    \n",
    "from src.data_cleaning import clean_ctg_data\n",
    "\n",
    "file_path = 'data/CTG.xls'\n",
    "df_cleaned, cleaning_report = clean_ctg_data(file_path)\n",
    "\n",
    "for line in cleaning_report:\n",
    "    print(line)\n",
    "    \n",
    "if df_cleaned is not None:\n",
    "    print(\"---- Cleaned DataFrame Head ----\")\n",
    "    display(df_cleaned.head())"
   ]
  }
 ],
 "metadata": {
  "kernelspec": {
   "display_name": "base",
   "language": "python",
   "name": "python3"
  },
  "language_info": {
   "codemirror_mode": {
    "name": "ipython",
    "version": 3
   },
   "file_extension": ".py",
   "mimetype": "text/x-python",
   "name": "python",
   "nbconvert_exporter": "python",
   "pygments_lexer": "ipython3",
   "version": "3.12.7"
  }
 },
 "nbformat": 4,
 "nbformat_minor": 2
}

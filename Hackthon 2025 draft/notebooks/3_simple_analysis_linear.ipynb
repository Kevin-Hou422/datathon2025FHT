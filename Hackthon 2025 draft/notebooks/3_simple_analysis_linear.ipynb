{
 "cells": [
  {
   "cell_type": "markdown",
   "id": "3717e828",
   "metadata": {},
   "source": [
    "### Simple/Basic approach  (Linear Regression, Logistic Regression)"
   ]
  }
 ],
 "metadata": {
  "language_info": {
   "name": "python"
  }
 },
 "nbformat": 4,
 "nbformat_minor": 5
}
